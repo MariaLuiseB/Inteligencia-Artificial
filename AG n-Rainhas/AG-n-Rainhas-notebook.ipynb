{
 "cells": [
  {
   "cell_type": "code",
   "execution_count": 151,
   "metadata": {},
   "outputs": [
    {
     "name": "stdout",
     "output_type": "stream",
     "text": [
      "Requirement already satisfied: deap in c:\\users\\luise\\appdata\\local\\packages\\pythonsoftwarefoundation.python.3.11_qbz5n2kfra8p0\\localcache\\local-packages\\python311\\site-packages (1.4.1)\n",
      "Requirement already satisfied: numpy in c:\\users\\luise\\appdata\\local\\packages\\pythonsoftwarefoundation.python.3.11_qbz5n2kfra8p0\\localcache\\local-packages\\python311\\site-packages (from deap) (1.25.1)\n",
      "Note: you may need to restart the kernel to use updated packages.\n"
     ]
    }
   ],
   "source": [
    "%pip install deap"
   ]
  },
  {
   "cell_type": "markdown",
   "metadata": {},
   "source": [
    "Instalar a diblioteca DEAP\n",
    "\n",
    "pip install deap"
   ]
  },
  {
   "attachments": {
    "image.png": {
     "image/png": "[encoded data removed]"
    }
   },
   "cell_type": "markdown",
   "metadata": {},
   "source": [
    "![image.png](attachment:image.png)"
   ]
  },
  {
   "cell_type": "markdown",
   "metadata": {},
   "source": [
    "## Cromossomo\n",
    "\n",
    "### Binário:\n",
    "[001 011 101 111 010 000 110 100]\n",
    "\n",
    "### Real:\n",
    "[1 3 5 7 2 0 6 4]\n"
   ]
  },
  {
   "cell_type": "code",
   "execution_count": 152,
   "metadata": {},
   "outputs": [
    {
     "name": "stdout",
     "output_type": "stream",
     "text": [
      "Requirement already satisfied: matplotlib in c:\\users\\luise\\appdata\\local\\packages\\pythonsoftwarefoundation.python.3.11_qbz5n2kfra8p0\\localcache\\local-packages\\python311\\site-packages (3.7.2)\n",
      "Requirement already satisfied: tqdm in c:\\users\\luise\\appdata\\local\\packages\\pythonsoftwarefoundation.python.3.11_qbz5n2kfra8p0\\localcache\\local-packages\\python311\\site-packages (4.66.1)\n",
      "Requirement already satisfied: contourpy>=1.0.1 in c:\\users\\luise\\appdata\\local\\packages\\pythonsoftwarefoundation.python.3.11_qbz5n2kfra8p0\\localcache\\local-packages\\python311\\site-packages (from matplotlib) (1.1.0)\n",
      "Requirement already satisfied: cycler>=0.10 in c:\\users\\luise\\appdata\\local\\packages\\pythonsoftwarefoundation.python.3.11_qbz5n2kfra8p0\\localcache\\local-packages\\python311\\site-packages (from matplotlib) (0.11.0)\n",
      "Requirement already satisfied: fonttools>=4.22.0 in c:\\users\\luise\\appdata\\local\\packages\\pythonsoftwarefoundation.python.3.11_qbz5n2kfra8p0\\localcache\\local-packages\\python311\\site-packages (from matplotlib) (4.41.0)\n",
      "Requirement already satisfied: kiwisolver>=1.0.1 in c:\\users\\luise\\appdata\\local\\packages\\pythonsoftwarefoundation.python.3.11_qbz5n2kfra8p0\\localcache\\local-packages\\python311\\site-packages (from matplotlib) (1.4.4)\n",
      "Requirement already satisfied: numpy>=1.20 in c:\\users\\luise\\appdata\\local\\packages\\pythonsoftwarefoundation.python.3.11_qbz5n2kfra8p0\\localcache\\local-packages\\python311\\site-packages (from matplotlib) (1.25.1)\n",
      "Requirement already satisfied: packaging>=20.0 in c:\\users\\luise\\appdata\\local\\packages\\pythonsoftwarefoundation.python.3.11_qbz5n2kfra8p0\\localcache\\local-packages\\python311\\site-packages (from matplotlib) (23.1)\n",
      "Requirement already satisfied: pillow>=6.2.0 in c:\\users\\luise\\appdata\\local\\packages\\pythonsoftwarefoundation.python.3.11_qbz5n2kfra8p0\\localcache\\local-packages\\python311\\site-packages (from matplotlib) (10.0.0)\n",
      "Requirement already satisfied: pyparsing<3.1,>=2.3.1 in c:\\users\\luise\\appdata\\local\\packages\\pythonsoftwarefoundation.python.3.11_qbz5n2kfra8p0\\localcache\\local-packages\\python311\\site-packages (from matplotlib) (3.0.9)\n",
      "Requirement already satisfied: python-dateutil>=2.7 in c:\\users\\luise\\appdata\\local\\packages\\pythonsoftwarefoundation.python.3.11_qbz5n2kfra8p0\\localcache\\local-packages\\python311\\site-packages (from matplotlib) (2.8.2)\n",
      "Requirement already satisfied: colorama in c:\\users\\luise\\appdata\\local\\packages\\pythonsoftwarefoundation.python.3.11_qbz5n2kfra8p0\\localcache\\local-packages\\python311\\site-packages (from tqdm) (0.4.6)\n",
      "Requirement already satisfied: six>=1.5 in c:\\users\\luise\\appdata\\local\\packages\\pythonsoftwarefoundation.python.3.11_qbz5n2kfra8p0\\localcache\\local-packages\\python311\\site-packages (from python-dateutil>=2.7->matplotlib) (1.16.0)\n",
      "Note: you may need to restart the kernel to use updated packages.\n"
     ]
    }
   ],
   "source": [
    "%pip install matplotlib tqdm"
   ]
  },
  {
   "cell_type": "code",
   "execution_count": 153,
   "metadata": {
    "scrolled": true
   },
   "outputs": [],
   "source": [
    "import numpy as np\n",
    "import random\n",
    "import time\n",
    "from deap import creator, base, tools, algorithms\n",
    "import matplotlib.pyplot as plt\n",
    "import matplotlib.patches as patches"
   ]
  },
  {
   "cell_type": "code",
   "execution_count": 154,
   "metadata": {},
   "outputs": [],
   "source": [
    "#N = Número de rainhas\n",
    "N = 128\n",
    "#log_N = número de bits para representar cada rainha\n",
    "log_N = int(np.log2(N))\n",
    "\n",
    "\n",
    "#Funções extraídas do código original do livro\n",
    "#https://github.com/aimacode/aima-python\n",
    "def conflicted(state, row, col):\n",
    "    \"\"\"Colocar uma rainha em (linha, coluna) causaria algum conflito?\"\"\"\n",
    "    return any(conflict(row, col, state[c], c)\n",
    "               for c in range(col))\n",
    "\n",
    "def conflict(row1, col1, row2, col2):\n",
    "    \"\"\"Colocar duas rainhas em (linha1, coluna1) e (linha2, coluna2) causaria conflito?\"\"\"\n",
    "    return (row1 == row2 or  # same row\n",
    "            col1 == col2 or  # same column\n",
    "            row1 - col1 == row2 - col2 or  # same \\ diagonal\n",
    "            row1 + col1 == row2 + col2)  # same / diagonal\n",
    "\n",
    "def goal_test(state):\n",
    "    \"\"\"Verificar se todas as colunas estão preenchidas sem conflitos.\"\"\"\n",
    "    if state[-1] == -1:\n",
    "        return False\n",
    "    return not any(conflicted(state, state[col], col)\n",
    "                   for col in range(len(state)))\n",
    "\n",
    "def h(node):\n",
    "    \"\"\"Retornar o número de rainhas em conflito para um determinado nó\"\"\"\n",
    "    num_conflicts = 0\n",
    "    for (r1, c1) in enumerate(node):\n",
    "        for (r2, c2) in enumerate(node):\n",
    "            if (r1, c1) != (r2, c2):\n",
    "                num_conflicts += conflict(r1, c1, r2, c2)\n",
    "    return num_conflicts\n",
    "\n",
    "def nqueen_fitness(node):\n",
    "    node_int = []\n",
    "    for i in range(0, len(node), log_N):\n",
    "        a = map(str, node[i:i+log_N])    \n",
    "        node_int.append(int(''.join(a), 2))\n",
    "\n",
    "    return h(node_int),\n",
    "    \n",
    "def plot_solution(solution, N):\n",
    "    fig = plt.figure()\n",
    "    ax = fig.add_subplot(111, aspect='equal')\n",
    "    ax.set_xlim((0, N))\n",
    "    ax.set_ylim((0, N))\n",
    "\n",
    "    # Adicionar quadriculado\n",
    "    for i in range(N):\n",
    "        for j in range(N):\n",
    "            color = 'white' if (i + j) % 2 == 0 else 'black'\n",
    "            ax.add_patch(patches.Rectangle((j, i), 1, 1, color=color))\n",
    "    \n",
    "    count = 0\n",
    "    for queen in solution:\n",
    "        ax.add_patch(patches.Circle((queen + 0.5, count + 0.5), radius=0.4, fill=True, color='red'))\n",
    "        count += 1\n",
    "    plt.show()"
   ]
  },
  {
   "cell_type": "code",
   "execution_count": 155,
   "metadata": {
    "scrolled": true
   },
   "outputs": [
    {
     "data": {
      "text/plain": [
       "False"
      ]
     },
     "execution_count": 155,
     "metadata": {},
     "output_type": "execute_result"
    }
   ],
   "source": [
    "goal_test([2,4,6,8,3,1,7,4])"
   ]
  },
  {
   "cell_type": "code",
   "execution_count": 156,
   "metadata": {},
   "outputs": [
    {
     "data": {
      "text/plain": [
       "8"
      ]
     },
     "execution_count": 156,
     "metadata": {},
     "output_type": "execute_result"
    }
   ],
   "source": [
    "h([2,2,6,7,3,1,7,4])"
   ]
  },
  {
   "cell_type": "code",
   "execution_count": 157,
   "metadata": {},
   "outputs": [],
   "source": [
    "#Cria ferramenta de geração de indivíduos\n",
    "creator.create(\"Fitness\", base.Fitness, weights=(-1.0, )) #Peso -1 por ser um problema de minimização\n",
    "\n",
    "#Cada indíviduo é composto por um cromossomo que é uma lista de valores\n",
    "creator.create(\"Individual\", list, fitness=creator.Fitness)"
   ]
  },
  {
   "cell_type": "code",
   "execution_count": 158,
   "metadata": {},
   "outputs": [],
   "source": [
    "#Toolbox é onde definiremos os operadores para a execução\n",
    "toolbox = base.Toolbox()\n",
    "\n",
    "#Função para criação do cromossomo\n",
    "#x = 0|1\n",
    "toolbox.register(\"attr_bool\", random.randint, 0, 1) #np.random.randint(0,1)\n",
    "#Função para Definir a criação do indivíduo. Será feita a repetição da função attr_bool por n vezes\n",
    "#cromossomo = [x, x, x, x, ..., x]     len(cromossomo) = n\n",
    "toolbox.register(\"individual\", tools.initRepeat, creator.Individual, toolbox.attr_bool, n=N*log_N)\n",
    "#Função para criar população. Repetição de indivíduos para formar uma lista\n",
    "toolbox.register(\"population\", tools.initRepeat, list, toolbox.individual)"
   ]
  },
  {
   "cell_type": "code",
   "execution_count": 159,
   "metadata": {},
   "outputs": [],
   "source": [
    "#função de avaliação\n",
    "toolbox.register(\"evaluate\", nqueen_fitness)\n",
    "#função de cruzamento\n",
    "toolbox.register(\"mate\", tools.cxOnePoint)\n",
    "#função de mutação\n",
    "#indpb probabilidade de mutação em bit\n",
    "toolbox.register(\"mutate\", tools.mutFlipBit, indpb=0.05) # 0.5 é a probabilidade de mutação em cada bit\n",
    "#função de seleção\n",
    "\"\"\"\n",
    "tournsize quantidade de individuos selecionados aleatoriamente\n",
    "para participar do torneio para se tornar o pai da proxima geração\n",
    "\"\"\"\n",
    "toolbox.register(\"select\", tools.selTournament, tournsize=3)"
   ]
  },
  {
   "cell_type": "markdown",
   "metadata": {},
   "source": [
    "Operadores do framework DEAP\n",
    "\n",
    "https://deap.readthedocs.io/en/master/api/tools.html"
   ]
  },
  {
   "cell_type": "code",
   "execution_count": 160,
   "metadata": {},
   "outputs": [],
   "source": [
    "#Cria uma população de tamanho 1\n",
    "\"\"\"\n",
    "É comum em algoritmos genéticos, onde você começa com uma \n",
    "pequena população inicial e, em seguida, a população cresce \n",
    "e evolui ao longo das gerações.\n",
    "\"\"\"\n",
    "population = toolbox.population(n=1)"
   ]
  },
  {
   "cell_type": "code",
   "execution_count": 161,
   "metadata": {
    "scrolled": true
   },
   "outputs": [
    {
     "data": {
      "text/plain": [
       "896"
      ]
     },
     "execution_count": 161,
     "metadata": {},
     "output_type": "execute_result"
    }
   ],
   "source": [
    "len(population[0])"
   ]
  },
  {
   "cell_type": "code",
   "execution_count": 162,
   "metadata": {},
   "outputs": [
    {
     "data": {
      "text/plain": [
       "(310,)"
      ]
     },
     "execution_count": 162,
     "metadata": {},
     "output_type": "execute_result"
    }
   ],
   "source": [
    "nqueen_fitness(population[0])"
   ]
  },
  {
   "cell_type": "code",
   "execution_count": 163,
   "metadata": {},
   "outputs": [
    {
     "name": "stderr",
     "output_type": "stream",
     "text": [
      "100%|██████████| 50/50 [13:01<00:00, 15.63s/it]\n"
     ]
    },
    {
     "name": "stdout",
     "output_type": "stream",
     "text": [
      " [EXECUCAO 0] \n",
      "Melhor individuo: '[51, 102, 43, 17, 24, 22, 69, 120, 58, 116, 42, 56, 82, 98, 25, 34, 6, 125, 41, 51, 126, 117, 49, 60, 64, 106, 118, 85, 46, 0, 31, 126, 36, 9, 38, 97, 117, 96, 60, 52, 112, 119, 15, 3, 104, 127, 14, 89, 113, 21, 109, 59, 116, 1, 69, 64, 81, 92, 58, 115, 47, 35, 0, 27, 23, 15, 11, 37, 62, 39, 6, 100, 105, 111, 55, 88, 25, 1, 114, 32, 66, 36, 103, 79, 109, 7, 89, 56, 111, 29, 70, 104, 121, 87, 78, 14, 93, 57, 90, 46, 83, 13, 80, 66, 86, 94, 26, 63, 47, 7, 12, 39, 45, 28, 10, 12, 40, 116, 83, 75, 97, 18, 51, 84, 55, 67, 53, 91]'\n",
      " contem (124,) conflitos\n",
      "Tempo de execução: 13.00 min 17.80 seg\n"
     ]
    },
    {
     "name": "stderr",
     "output_type": "stream",
     "text": [
      "100%|██████████| 50/50 [12:57<00:00, 15.54s/it]\n"
     ]
    },
    {
     "name": "stdout",
     "output_type": "stream",
     "text": [
      " [EXECUCAO 1] \n",
      "Melhor individuo: '[19, 61, 115, 86, 98, 55, 101, 93, 16, 91, 58, 80, 111, 25, 81, 118, 90, 72, 79, 103, 113, 92, 42, 23, 123, 5, 8, 43, 57, 97, 109, 34, 105, 10, 27, 114, 121, 62, 2, 57, 54, 74, 120, 69, 6, 3, 109, 12, 15, 94, 70, 95, 3, 115, 76, 111, 96, 53, 41, 20, 38, 104, 51, 109, 45, 102, 6, 14, 0, 50, 22, 16, 106, 124, 121, 126, 32, 119, 64, 110, 88, 107, 54, 0, 37, 94, 127, 24, 112, 46, 69, 126, 68, 34, 44, 112, 5, 15, 65, 41, 123, 67, 26, 32, 12, 29, 31, 117, 43, 116, 64, 82, 96, 87, 36, 83, 108, 65, 49, 52, 122, 4, 124, 61, 125, 33, 28, 48]'\n",
      " contem (110,) conflitos\n",
      "Tempo de execução: 13.00 min 13.33 seg\n"
     ]
    },
    {
     "name": "stderr",
     "output_type": "stream",
     "text": [
      "100%|██████████| 50/50 [12:52<00:00, 15.45s/it]\n"
     ]
    },
    {
     "name": "stdout",
     "output_type": "stream",
     "text": [
      " [EXECUCAO 2] \n",
      "Melhor individuo: '[10, 30, 126, 8, 18, 9, 81, 84, 111, 64, 119, 57, 76, 100, 68, 23, 4, 116, 92, 32, 79, 114, 80, 97, 2, 31, 21, 49, 17, 113, 80, 66, 52, 6, 104, 71, 39, 97, 69, 2, 121, 124, 23, 34, 116, 127, 48, 15, 99, 96, 46, 60, 14, 95, 47, 107, 109, 96, 1, 70, 35, 88, 7, 87, 0, 113, 8, 44, 22, 105, 53, 26, 43, 120, 48, 24, 97, 46, 25, 19, 60, 0, 40, 98, 102, 117, 78, 67, 49, 37, 91, 98, 20, 62, 54, 36, 107, 101, 59, 40, 125, 122, 114, 11, 67, 12, 35, 83, 50, 7, 89, 120, 118, 43, 17, 82, 72, 83, 115, 110, 63, 42, 74, 29, 81, 62, 85, 77]'\n",
      " contem (110,) conflitos\n",
      "Tempo de execução: 13.00 min 8.36 seg\n"
     ]
    },
    {
     "name": "stderr",
     "output_type": "stream",
     "text": [
      "100%|██████████| 50/50 [12:56<00:00, 15.53s/it]\n"
     ]
    },
    {
     "name": "stdout",
     "output_type": "stream",
     "text": [
      " [EXECUCAO 3] \n",
      "Melhor individuo: '[99, 33, 92, 62, 73, 55, 112, 104, 37, 63, 7, 44, 61, 24, 29, 11, 71, 96, 22, 113, 44, 119, 48, 12, 52, 1, 72, 48, 57, 59, 110, 92, 52, 101, 123, 112, 94, 28, 116, 32, 111, 103, 0, 5, 19, 93, 37, 123, 114, 67, 107, 121, 90, 68, 89, 71, 123, 99, 65, 106, 57, 42, 126, 4, 102, 121, 34, 119, 120, 43, 54, 58, 19, 9, 35, 84, 127, 97, 42, 82, 66, 95, 117, 22, 54, 19, 6, 124, 39, 109, 26, 31, 45, 13, 51, 10, 50, 122, 30, 93, 121, 47, 6, 81, 69, 64, 8, 75, 17, 3, 73, 36, 124, 20, 85, 82, 80, 115, 46, 101, 103, 21, 67, 18, 98, 110, 108, 79]'\n",
      " contem (126,) conflitos\n",
      "Tempo de execução: 13.00 min 12.48 seg\n"
     ]
    },
    {
     "name": "stderr",
     "output_type": "stream",
     "text": [
      "100%|██████████| 50/50 [13:01<00:00, 15.62s/it]"
     ]
    },
    {
     "name": "stdout",
     "output_type": "stream",
     "text": [
      " [EXECUCAO 4] \n",
      "Melhor individuo: '[29, 90, 61, 14, 100, 102, 83, 113, 45, 33, 73, 62, 31, 54, 72, 125, 83, 47, 43, 95, 2, 27, 105, 53, 23, 9, 48, 32, 127, 119, 123, 81, 84, 120, 38, 5, 64, 81, 7, 32, 38, 119, 59, 115, 109, 126, 51, 90, 14, 26, 42, 39, 25, 16, 48, 55, 103, 28, 93, 91, 116, 68, 22, 5, 114, 0, 75, 77, 40, 12, 96, 97, 22, 65, 4, 61, 17, 125, 37, 30, 0, 124, 31, 24, 107, 20, 112, 4, 108, 56, 102, 76, 46, 24, 66, 52, 0, 86, 117, 126, 122, 94, 104, 8, 50, 63, 87, 106, 74, 10, 18, 97, 109, 76, 66, 71, 111, 35, 6, 6, 99, 13, 11, 8, 49, 115, 58, 110]'\n",
      " contem (108,) conflitos\n",
      "Tempo de execução: 13.00 min 17.50 seg\n"
     ]
    },
    {
     "name": "stderr",
     "output_type": "stream",
     "text": [
      "\n"
     ]
    }
   ],
   "source": [
    "from tqdm import tqdm\n",
    "execucoes = 5\n",
    "\n",
    "for _ in range(execucoes):\n",
    "    tempo_inicial = time.time()\n",
    "    #Inicia população con n indivíduos\n",
    "    population = toolbox.population(n=3000) # quanto maior a poupulação mais tempo demora para executar e mais chances de achar o melhor individuo\n",
    "\n",
    "    #Número máximo de gerações\n",
    "    NGEN=50 # para não stagnar, colocar um numero menor de gerações \n",
    "\n",
    "    #Avalia todos os indivíduos\n",
    "    fits = toolbox.map(toolbox.evaluate, population)\n",
    "    for fit, ind in zip(fits, population):\n",
    "        ind.fitness.values = fit\n",
    "        \n",
    "        \n",
    "    avg = []\n",
    "    tops = []\n",
    "    worsts = []\n",
    "\n",
    "    for gen in tqdm(range(NGEN)):\n",
    "        #Faz seleção\n",
    "        population = toolbox.select(population, k=len(population))\n",
    "        #Faz o cruzamento e mutação\n",
    "        #cxpb = probabilidade de cruzamento\n",
    "        #mutpb = probabilidade de mutação\n",
    "        offspring = algorithms.varAnd(population, toolbox, cxpb=0.6, mutpb=0.1)\n",
    "        \n",
    "        #Reavalia a nova geração\n",
    "        avg_h = 0\n",
    "        fits = toolbox.map(toolbox.evaluate, offspring) \n",
    "        for fit, ind in zip(fits, offspring):\n",
    "            avg_h += fit[0]\n",
    "            ind.fitness.values = fit\n",
    "            \n",
    "        #nova população vão ser os filhos\n",
    "        population[:] = offspring\n",
    "            \n",
    "        #pega melhor e pior indivíduos para montar o gráfico\n",
    "        top = tools.selBest(population, k=1)\n",
    "        worst = tools.selWorst(population, k=1)\n",
    "        \n",
    "        #calcula a média da população \n",
    "        avg_h = avg_h/len(population)\n",
    "        #pega a quantidade de conflitos do melhor e pior individuo \n",
    "        top_h = nqueen_fitness(top[0])[0]\n",
    "        worst_h = nqueen_fitness(worst[0])[0]\n",
    "\n",
    "        #adiciona nas listas os dados obtidos da atual geração\n",
    "        avg.append(avg_h)\n",
    "        tops.append(top_h)\n",
    "        worsts.append(worst_h)\n",
    "        \n",
    "        \n",
    "        #Avalia critério de parada\n",
    "        if(nqueen_fitness(top[0])[0] == 0): break\n",
    "    tempo_final = time.time()\n",
    "    node_int = []\n",
    "\n",
    "    minutos = (tempo_final - tempo_inicial) // 60\n",
    "    segundos = (tempo_final - tempo_inicial) % 60\n",
    "    for i in range(0, len(top[0]), log_N):\n",
    "        a = map(str, top[0][i:i+log_N])    \n",
    "        node_int.append(int(''.join(a), 2))        \n",
    "    print(f' [EXECUCAO {_}] \\nMelhor individuo: \\'{node_int}\\'\\n contem {nqueen_fitness(top[0])} conflitos\\nTempo de execução: {minutos:.2f} min {segundos:.2f} seg')"
   ]
  },
  {
   "cell_type": "code",
   "execution_count": 164,
   "metadata": {},
   "outputs": [
    {
     "name": "stdout",
     "output_type": "stream",
     "text": [
      "Melhor individuo contem : (108,) conflitos\n"
     ]
    }
   ],
   "source": [
    "print(f'Melhor individuo contem : {nqueen_fitness(top[0])} conflitos')"
   ]
  },
  {
   "cell_type": "code",
   "execution_count": 165,
   "metadata": {},
   "outputs": [
    {
     "data": {
      "image/png": "[encoded data removed]",
      "text/plain": [
       "<Figure size 640x480 with 1 Axes>"
      ]
     },
     "metadata": {},
     "output_type": "display_data"
    }
   ],
   "source": [
    "node_int = []\n",
    "for i in range(0, len(top[0]), log_N):\n",
    "    a = map(str, top[0][i:i+log_N])    \n",
    "    node_int.append(int(''.join(a), 2))\n",
    "    \n",
    "plot_solution(node_int, N)"
   ]
  },
  {
   "cell_type": "code",
   "execution_count": 166,
   "metadata": {},
   "outputs": [
    {
     "data": {
      "image/png": "[encoded data removed]",
      "text/plain": [
       "<Figure size 640x480 with 1 Axes>"
      ]
     },
     "metadata": {},
     "output_type": "display_data"
    }
   ],
   "source": [
    "plt.plot(avg, c='g')\n",
    "plt.plot(tops, c='b')\n",
    "plt.plot(worsts, c='r')\n",
    "plt.show()"
   ]
  },
  {
   "cell_type": "code",
   "execution_count": 167,
   "metadata": {},
   "outputs": [
    {
     "name": "stdout",
     "output_type": "stream",
     "text": [
      "[29, 90, 61, 14, 100, 102, 83, 113, 45, 33, 73, 62, 31, 54, 72, 125, 83, 47, 43, 95, 2, 27, 105, 53, 23, 9, 48, 32, 127, 119, 123, 81, 84, 120, 38, 5, 64, 81, 7, 32, 38, 119, 59, 115, 109, 126, 51, 90, 14, 26, 42, 39, 25, 16, 48, 55, 103, 28, 93, 91, 116, 68, 22, 5, 114, 0, 75, 77, 40, 12, 96, 97, 22, 65, 4, 61, 17, 125, 37, 30, 0, 124, 31, 24, 107, 20, 112, 4, 108, 56, 102, 76, 46, 24, 66, 52, 0, 86, 117, 126, 122, 94, 104, 8, 50, 63, 87, 106, 74, 10, 18, 97, 109, 76, 66, 71, 111, 35, 6, 6, 99, 13, 11, 8, 49, 115, 58, 110]\n"
     ]
    }
   ],
   "source": [
    "print(node_int)"
   ]
  },
  {
   "cell_type": "code",
   "execution_count": null,
   "metadata": {},
   "outputs": [],
   "source": []
  }
 ],
 "metadata": {
  "kernelspec": {
   "display_name": "Python 3 (ipykernel)",
   "language": "python",
   "name": "python3"
  },
  "language_info": {
   "codemirror_mode": {
    "name": "ipython",
    "version": 3
   },
   "file_extension": ".py",
   "mimetype": "text/x-python",
   "name": "python",
   "nbconvert_exporter": "python",
   "pygments_lexer": "ipython3",
   "version": "3.11.5"
  }
 },
 "nbformat": 4,
 "nbformat_minor": 2
}
